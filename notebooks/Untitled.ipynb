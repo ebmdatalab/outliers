{
 "cells": [
  {
   "cell_type": "code",
   "execution_count": null,
   "metadata": {},
   "outputs": [],
   "source": [
    "# try to get just a single CCG's worth of data, not using BQ cache and compare KDE plots"
   ]
  },
  {
   "cell_type": "code",
   "execution_count": 58,
   "metadata": {},
   "outputs": [],
   "source": [
    "from lib.outliers import Runner, Plots\n",
    "from matplotlib import pyplot as plt\n",
    "import numpy as np"
   ]
  },
  {
   "cell_type": "code",
   "execution_count": null,
   "metadata": {},
   "outputs": [],
   "source": [
    "from_date = date(year=2021,month=4,day=1)\n",
    "to_date = date(year=2021,month=10,day=1)\n",
    "r = Runner(from_date,to_date,5,[\"practice\",\"ccg\",\"pcn\",\"stp\"],False)"
   ]
  },
  {
   "cell_type": "code",
   "execution_count": null,
   "metadata": {},
   "outputs": [],
   "source": [
    "r.build.run()"
   ]
  },
  {
   "cell_type": "code",
   "execution_count": null,
   "metadata": {},
   "outputs": [],
   "source": [
    "r.build.fetch_results()"
   ]
  },
  {
   "cell_type": "code",
   "execution_count": null,
   "metadata": {},
   "outputs": [],
   "source": [
    "r._run_item_report('ccg','04Y')"
   ]
  },
  {
   "cell_type": "code",
   "execution_count": null,
   "metadata": {},
   "outputs": [],
   "source": [
    "from ebmdatalab import bq\n",
    "import pandas as pd"
   ]
  },
  {
   "cell_type": "code",
   "execution_count": 71,
   "metadata": {
    "lines_to_next_cell": 2
   },
   "outputs": [
    {
     "name": "stderr",
     "output_type": "stream",
     "text": [
      "Downloading: 100%|██████████| 1274/1274 [00:34<00:00, 37.42rows/s]\n",
      "Downloading: 100%|██████████| 1294/1294 [00:07<00:00, 166.90rows/s]\n",
      "Downloading: 100%|██████████| 364/364 [00:00<00:00, 1195.87rows/s]\n"
     ]
    }
   ],
   "source": [
    "for entity in ['practice','pcn','stp']:\n",
    "    sql = f\"\"\"\n",
    "                SELECT\n",
    "                    chemical,\n",
    "                    measure_array as `array`\n",
    "                FROM\n",
    "                    `ebmdatalab.outlier_detection.{entity}_measure_arrays`\n",
    "                WHERE\n",
    "                    build_id = 1;\n",
    "            \"\"\"\n",
    "    csv_path = f\"../data/bq_cache/{entity}_measure_arrays.zip\"\n",
    "    res = bq.cached_read(\n",
    "        sql,\n",
    "        csv_path,\n",
    "        use_cache=False,\n",
    "    )"
   ]
  },
  {
   "cell_type": "code",
   "execution_count": 66,
   "metadata": {},
   "outputs": [
    {
     "name": "stderr",
     "output_type": "stream",
     "text": [
      "Downloading: 100%|██████████| 706/706 [00:00<00:00, 1160.20rows/s]\n"
     ]
    }
   ],
   "source": [
    "csv_path = f\"../data/bq_cache/ccg_measure_arrays.zip\"\n",
    "res = bq.cached_read(\n",
    "    sql,\n",
    "    csv_path,\n",
    "    use_cache=False,\n",
    ")"
   ]
  },
  {
   "cell_type": "code",
   "execution_count": null,
   "metadata": {},
   "outputs": [],
   "source": [
    "res.array"
   ]
  },
  {
   "cell_type": "code",
   "execution_count": null,
   "metadata": {},
   "outputs": [],
   "source": [
    "res.array.values[0] #= res.array.apply(str)"
   ]
  },
  {
   "cell_type": "code",
   "execution_count": null,
   "metadata": {},
   "outputs": [],
   "source": [
    "res.array = res.array.apply(lambda x: np.fromstring(x[1:-1], sep=\",\"))"
   ]
  },
  {
   "cell_type": "code",
   "execution_count": null,
   "metadata": {},
   "outputs": [],
   "source": [
    "self.results_measure_arrays[entity] = res.set_index(\"chemical\")"
   ]
  },
  {
   "cell_type": "code",
   "execution_count": 67,
   "metadata": {},
   "outputs": [],
   "source": [
    "distribution = sorted(res.query('chemical==\"1001010AD\"')['array'].values[0])"
   ]
  },
  {
   "cell_type": "code",
   "execution_count": 68,
   "metadata": {},
   "outputs": [
    {
     "data": {
      "text/plain": [
       "[0.0,\n",
       " 0.0,\n",
       " 0.0,\n",
       " 0.0,\n",
       " 0.0,\n",
       " 0.0,\n",
       " 0.0,\n",
       " 0.0,\n",
       " 0.0,\n",
       " 0.0,\n",
       " 0.0,\n",
       " 0.0,\n",
       " 0.0,\n",
       " 0.0,\n",
       " 0.0,\n",
       " 0.0,\n",
       " 0.0,\n",
       " 0.0,\n",
       " 0.0,\n",
       " 0.0,\n",
       " 0.0,\n",
       " 0.0,\n",
       " 0.0,\n",
       " 0.0,\n",
       " 0.0,\n",
       " 0.0,\n",
       " 0.0,\n",
       " 0.0,\n",
       " 0.0,\n",
       " 0.0,\n",
       " 0.0,\n",
       " 0.0,\n",
       " 0.0,\n",
       " 0.0,\n",
       " 0.0,\n",
       " 0.0,\n",
       " 0.0,\n",
       " 0.0,\n",
       " 0.0,\n",
       " 0.0,\n",
       " 0.0,\n",
       " 1.1612e-05,\n",
       " 1.3426e-05,\n",
       " 2.2275e-05,\n",
       " 3.1228e-05,\n",
       " 3.1356e-05,\n",
       " 3.3556e-05,\n",
       " 5.2106e-05,\n",
       " 5.3094e-05,\n",
       " 5.6812e-05,\n",
       " 5.8429e-05,\n",
       " 6.0001e-05,\n",
       " 6.4066e-05,\n",
       " 7.5017e-05,\n",
       " 7.5445e-05,\n",
       " 7.879e-05,\n",
       " 8.0092e-05,\n",
       " 9.0791e-05,\n",
       " 9.4353e-05,\n",
       " 9.5099e-05,\n",
       " 9.7494e-05,\n",
       " 0.000101321,\n",
       " 0.000103521,\n",
       " 0.000109923,\n",
       " 0.000110149,\n",
       " 0.000112254,\n",
       " 0.000113411,\n",
       " 0.000116966,\n",
       " 0.000119159,\n",
       " 0.000125766,\n",
       " 0.000126135,\n",
       " 0.000128573,\n",
       " 0.000143818,\n",
       " 0.000145252,\n",
       " 0.000146349,\n",
       " 0.000147904,\n",
       " 0.000148228,\n",
       " 0.000149436,\n",
       " 0.000155703,\n",
       " 0.000158845,\n",
       " 0.000159736,\n",
       " 0.000162961,\n",
       " 0.000177845,\n",
       " 0.000185809,\n",
       " 0.000207555,\n",
       " 0.000209211,\n",
       " 0.000226239,\n",
       " 0.000237963,\n",
       " 0.000241003,\n",
       " 0.00024547,\n",
       " 0.000257359,\n",
       " 0.000261549,\n",
       " 0.000261955,\n",
       " 0.000263316,\n",
       " 0.000302019,\n",
       " 0.000302314,\n",
       " 0.000369413,\n",
       " 0.000401994,\n",
       " 0.000522411,\n",
       " 0.000599854,\n",
       " 0.000630318,\n",
       " 0.000683026,\n",
       " 0.001384157,\n",
       " 0.00183786,\n",
       " 0.006479845,\n",
       " 0.011215834]"
      ]
     },
     "execution_count": 68,
     "metadata": {},
     "output_type": "execute_result"
    }
   ],
   "source": [
    "distribution"
   ]
  },
  {
   "cell_type": "code",
   "execution_count": 54,
   "metadata": {},
   "outputs": [],
   "source": [
    "import seaborn as sns"
   ]
  },
  {
   "cell_type": "code",
   "execution_count": 62,
   "metadata": {},
   "outputs": [
    {
     "data": {
      "text/plain": [
       "array([ True,  True,  True,  True,  True,  True,  True,  True,  True,\n",
       "        True,  True,  True,  True,  True,  True,  True,  True,  True,\n",
       "        True,  True,  True,  True,  True,  True,  True,  True,  True,\n",
       "        True,  True,  True,  True,  True,  True,  True,  True,  True,\n",
       "        True,  True,  True,  True,  True,  True,  True,  True,  True,\n",
       "        True,  True,  True,  True,  True,  True,  True,  True,  True,\n",
       "        True,  True,  True,  True,  True,  True,  True,  True,  True,\n",
       "        True,  True,  True,  True,  True,  True,  True,  True,  True,\n",
       "        True,  True,  True,  True,  True,  True,  True,  True,  True,\n",
       "        True,  True,  True,  True,  True,  True,  True,  True,  True,\n",
       "        True,  True,  True,  True,  True,  True,  True,  True,  True,\n",
       "        True,  True,  True,  True,  True,  True,  True])"
      ]
     },
     "execution_count": 62,
     "metadata": {},
     "output_type": "execute_result"
    }
   ],
   "source": [
    "~np.isnan(distribution)"
   ]
  },
  {
   "cell_type": "code",
   "execution_count": 69,
   "metadata": {},
   "outputs": [
    {
     "data": {
      "text/plain": [
       "<matplotlib.axes._subplots.AxesSubplot at 0x7f9f7bf5b130>"
      ]
     },
     "execution_count": 69,
     "metadata": {},
     "output_type": "execute_result"
    },
    {
     "data": {
      "image/png": "[encoded data removed]",
      "text/plain": [
       "<Figure size 720x144 with 1 Axes>"
      ]
     },
     "metadata": {
      "needs_background": "light"
     },
     "output_type": "display_data"
    }
   ],
   "source": [
    "figsize=(10, 2)\n",
    "fig, ax = plt.subplots(1, 1, figsize=figsize)\n",
    "#distribution = distribution[~np.isnan(distribution)]\n",
    "sns.kdeplot(\n",
    "    distribution,\n",
    "    bw=Plots._bw_scott(distribution),\n",
    "    ax=ax,\n",
    "    linewidth=0.9,\n",
    "    legend=False,\n",
    ")"
   ]
  },
  {
   "cell_type": "code",
   "execution_count": null,
   "metadata": {},
   "outputs": [],
   "source": [
    "res.query('chemical==\"1001010AD\"')['array'].apply(str)"
   ]
  },
  {
   "cell_type": "code",
   "execution_count": 49,
   "metadata": {},
   "outputs": [
    {
     "data": {
      "text/plain": [
       "numpy.float64"
      ]
     },
     "execution_count": 49,
     "metadata": {},
     "output_type": "execute_result"
    }
   ],
   "source": [
    "type(r.build.results_measure_arrays['ccg'].query('chemical==\"0202010L0\"')['array'].values[0][0])"
   ]
  },
  {
   "cell_type": "code",
   "execution_count": null,
   "metadata": {},
   "outputs": [],
   "source": []
  }
 ],
 "metadata": {
  "jupytext": {
   "cell_metadata_filter": "all",
   "notebook_metadata_filter": "all,-language_info",
   "text_representation": {
    "extension": ".py",
    "format_name": "light",
    "format_version": "1.5",
    "jupytext_version": "1.3.4"
   }
  },
  "kernelspec": {
   "display_name": "Python 3",
   "language": "python",
   "name": "python3"
  },
  "language_info": {
   "codemirror_mode": {
    "name": "ipython",
    "version": 3
   },
   "file_extension": ".py",
   "mimetype": "text/x-python",
   "name": "python",
   "nbconvert_exporter": "python",
   "pygments_lexer": "ipython3",
   "version": "3.8.1"
  }
 },
 "nbformat": 4,
 "nbformat_minor": 4
}
