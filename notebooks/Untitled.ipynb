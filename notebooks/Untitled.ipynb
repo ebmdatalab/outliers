{
 "cells": [
  {
   "cell_type": "code",
   "execution_count": 50,
   "metadata": {},
   "outputs": [],
   "source": [
    "import os\n",
    "import pandas as pd"
   ]
  },
  {
   "cell_type": "code",
   "execution_count": 51,
   "metadata": {},
   "outputs": [],
   "source": [
    "htmlfiles = {f.split('_')[2].replace('.html',''):pd.read_html(f'../data/html/{f}') for f in os.listdir('../data/html/') if 'ccg' in f}"
   ]
  },
  {
   "cell_type": "code",
   "execution_count": 52,
   "metadata": {},
   "outputs": [],
   "source": [
    "first = True\n",
    "outer_df = None\n",
    "for k,v in htmlfiles.items():\n",
    "    for i,df in enumerate(v):\n",
    "        inner_df = df.assign(practice=k).reset_index().rename(columns={'index':'rank'}).assign(high_low='h' if i==0 else 'l')\n",
    "        outer_df = inner_df if first else pd.concat([outer_df,inner_df])\n",
    "        first = False"
   ]
  },
  {
   "cell_type": "code",
   "execution_count": 53,
   "metadata": {},
   "outputs": [],
   "source": [
    "outer_df.drop(columns='Plots').to_csv('../data/sproc_audit_ccg_original.csv',index=False)"
   ]
  }
 ],
 "metadata": {
  "jupytext": {
   "cell_metadata_filter": "all",
   "notebook_metadata_filter": "all,-language_info",
   "text_representation": {
    "extension": ".py",
    "format_name": "light",
    "format_version": "1.5",
    "jupytext_version": "1.3.4"
   }
  },
  "kernelspec": {
   "display_name": "Python 3",
   "language": "python",
   "name": "python3"
  },
  "language_info": {
   "codemirror_mode": {
    "name": "ipython",
    "version": 3
   },
   "file_extension": ".py",
   "mimetype": "text/x-python",
   "name": "python",
   "nbconvert_exporter": "python",
   "pygments_lexer": "ipython3",
   "version": "3.8.1"
  }
 },
 "nbformat": 4,
 "nbformat_minor": 4
}
