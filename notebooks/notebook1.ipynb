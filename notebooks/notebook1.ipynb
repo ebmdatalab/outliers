{
 "cells": [
  {
   "cell_type": "code",
   "execution_count": 1,
   "metadata": {},
   "outputs": [],
   "source": [
    "from lib.outliers import Runner\n",
    "from datetime import date"
   ]
  },
  {
   "cell_type": "code",
   "execution_count": 2,
   "metadata": {},
   "outputs": [],
   "source": [
    "from_date = date(year=2021,month=4,day=1)\n",
    "to_date = date(year=2021,month=8,day=1)\n",
    "r = Runner(from_date,to_date,5,[\"practice\",\"ccg\",\"pcn\",\"stp\"],False,3)"
   ]
  },
  {
   "cell_type": "code",
   "execution_count": 3,
   "metadata": {},
   "outputs": [
    {
     "name": "stderr",
     "output_type": "stream",
     "text": [
      "Downloading: 100%|██████████| 1/1 [00:00<00:00,  6.86rows/s]\n"
     ]
    },
    {
     "data": {
      "application/vnd.jupyter.widget-view+json": {
       "model_id": "5afaca06dc4744b28573db6fc91b548e",
       "version_major": 2,
       "version_minor": 0
      },
      "text/plain": [
       "HBox(children=(FloatProgress(value=0.0, description='SUBMITTING | ', max=3.0, style=ProgressStyle(description_…"
      ]
     },
     "metadata": {},
     "output_type": "display_data"
    },
    {
     "name": "stdout",
     "output_type": "stream",
     "text": [
      "\n"
     ]
    },
    {
     "data": {
      "application/vnd.jupyter.widget-view+json": {
       "model_id": "34632f54d32d4bfd82db1d283dc3d9a5",
       "version_major": 2,
       "version_minor": 0
      },
      "text/plain": [
       "HBox(children=(FloatProgress(value=0.0, description='PROCESSING | ', max=3.0, style=ProgressStyle(description_…"
      ]
     },
     "metadata": {},
     "output_type": "display_data"
    },
    {
     "name": "stdout",
     "output_type": "stream",
     "text": [
      "IyYgo5Tgo4EGfTARQXF8UJEJiYh5KA0I\n",
      "U9LEJp221tAX9GhDNbFtqlJdiK9U68s6\n",
      "Go0aIzgxxsQraoIazygqGGGI4VCMaGK8\n",
      "aRMffBDTRhPlFmLAB29gAA08tBKNILoE\n",
      "8cYvdCteNu2uF3rlXRSs6IVKBeMulQpK\n",
      "lcZ4TSS2eNdKQgl4BbXAUrDSSCRBUREF\n",
      "onGdmLhEiRpFxC2IUXmhQwiYiEs0EkBU\n",
      "yopWR0DTVE1llYZQqWKRBI1mDIBKoHS\n",
      "GC4YUZAS6Ui7oJShBASuNGkhBAKE4h0I\n",
      "7I80scmY2Pafmkxa0gjFqloKsWIoKVQ\n",
      "fQoKR2mhPg8VLGQodtjFaLEhUqR4It\n",
      "iVGqAoypxIrRJKVighCxFEuNbG88yIEx\n",
      "p1M6PTj055R2ZQPQTtTKo4NROsA09E6\n",
      "NQaTGGMnhihamiqdKIgoUkYToAciKOIa\n",
      "2v5RidIIqkqL1Fb9B2mltmpLhYjatKIq\n",
      "x05nOrU9U9sZrDqjlk6HWpeCItthkUVR\n",
      "QBS0R1PxD4GeFLQoIVFZEwu1UEAibY5u\n",
      "6fFRkiQDmLWUYEAUUVRAlBwsZFBJIsPg\n",
      "GU0OTR9tTCYlFpBKQoRUUKuy2ABxlCpF\n",
      "xwKCorZWrFVEqFoV7CitW1RwQRBEwibC\n",
      "qxqDZWJJ0glEA5UCCEQigJphAhbWKo\n",
      "Syou4G5ENkUEgZAMPuXCqhEwoETUgKiI\n",
      "2hJi8EBacohaWlFWwLI0peVRik3wKA6N\n",
      "DJKB3sRKIgfCgtDBMjZUxK0npRRCrb\n",
      "whGVMzJTiijLqIioo4IiqKMwpXh02AlC\n",
      "22i5i4xzQHFEgUGJbKOFGyq44EH2QDiI\n",
      "VEuLCI4WLILaKlArAl5ANNpBLiqIIEJR\n",
      "aa1tIMza9up7R9Md6Zj1bb4Qx2WpVa\n",
      "aOoPuoRjsP3DxnZaoEARkQqNQkQCBaXN\n",
      "VtqqxFBGzUQwohQVImBQkyiXaKikARGj\n",
      "\n"
     ]
    },
    {
     "data": {
      "application/vnd.jupyter.widget-view+json": {
       "model_id": "e0a64b1098ed45308f014558341a8d95",
       "version_major": 2,
       "version_minor": 0
      },
      "text/plain": [
       "HBox(children=(FloatProgress(value=0.0, description='COLLECTING | ', max=3.0, style=ProgressStyle(description_…"
      ]
     },
     "metadata": {},
     "output_type": "display_data"
    },
    {
     "name": "stdout",
     "output_type": "stream",
     "text": [
      "\n"
     ]
    },
    {
     "data": {
      "application/vnd.jupyter.widget-view+json": {
       "model_id": "590d8fca21a843c2a4e824a6e7edbdbd",
       "version_major": 2,
       "version_minor": 0
      },
      "text/plain": [
       "HBox(children=(FloatProgress(value=0.0, description='SUBMITTING | ', max=3.0, style=ProgressStyle(description_…"
      ]
     },
     "metadata": {},
     "output_type": "display_data"
    },
    {
     "name": "stdout",
     "output_type": "stream",
     "text": [
      "\n"
     ]
    },
    {
     "data": {
      "application/vnd.jupyter.widget-view+json": {
       "model_id": "42fbb371794e4056a2b2d34c0c077a38",
       "version_major": 2,
       "version_minor": 0
      },
      "text/plain": [
       "HBox(children=(FloatProgress(value=0.0, description='PROCESSING | ', max=3.0, style=ProgressStyle(description_…"
      ]
     },
     "metadata": {},
     "output_type": "display_data"
    },
    {
     "name": "stdout",
     "output_type": "stream",
     "text": [
      "CELBMiVq2gp1bGxL2oLSrhQtL9KUINEh\n",
      "tZS2qR2FP4gie0IrUERtKgo9IFGQho5\n",
      "UiwVg6ZRKRUVWg0iwTIYAQuSkgiEirod\n",
      "2i1w4weHirU8nCo1vaPVhlNdXDQUnSk\n",
      "2HY0oylkKUxNFGACVAWAaGFK8geyDEw\n",
      "YzWCjUI8wVBBvBBRIAQ8UnFFuYQVkPsa\n",
      "AyihOrUPRAMyERtaWmMQNAEqtFBRa6eg\n",
      "KwiFjFihqUBHW7oKLX1a7RqjFlrLH3U2\n",
      "kjYxmmiRtBLUiIlRiGVUouIloHZikFIx\n",
      "TJkYRVwIBONCMEpA4lKaRVAjiARQRhwU\n",
      "4xYjUMEliVtQxMSNKCZgxEoIo4SoGI0o\n",
      "ME00kaQkNhEFpdQYSCIYlFshVNFIJEFC\n",
      "RdRFkIUxFlF2oWARjRcqZWBRlGkTI5Va\n",
      "RZwVWou20G0rE0oR0YLQMs7QVmUGWKil\n",
      "UQeXKZcRBQFHQVxwwSXiDA8EBQHFAWWN\n",
      "Y8fEGGxE2OJMVEImETBgMFgKOx4w3jJ\n",
      "pCmTkEoktogJF0mCQgwSucilwFQnG01E\n",
      "0JhoShYVVBB3ZBEQwSCFbLIYNSIqMsio\n",
      "oZpMkTZtIrqCCgeWEKVStUQj1iJllCa2\n",
      "D1QULRUBcV0OwQO8FhGPl7W6CwoerKsg\n",
      "EjGpKHYI8lCITJWlAhES5UlRkwj4CI2k\n",
      "VUG0FJEVXUElKkFZBFMZF1kDKhIGkCBJ\n",
      "4yPKoXGhIYiRkhIDgQiiKClRoCWCKTBI\n",
      "iJhU0EaWaDZcOomW5KJlKUQspJKCGFNK\n",
      "UBg7aCqSiHaRKFYZiMolPEgSQylYBU1Q\n",
      "uOny0ovIoLQFLbZWXN4qtkhZ0Dpq1V60\n",
      "GMG4YYGCEUEEJYAQVwRRyiBgkEcMsoiA\n",
      "OcBBDZYIGgzEcHDBgElEIWoojYCJxkjc\n",
      "4ihCSFI5yqRy6aZOkku0KYkRm5JLirLd\n",
      "WYzGiF6fJKaqIkbBg1uEBRjQVREeTAI\n",
      "\n"
     ]
    },
    {
     "data": {
      "application/vnd.jupyter.widget-view+json": {
       "model_id": "0540db98e1444d4d9c0014fdaa17f706",
       "version_major": 2,
       "version_minor": 0
      },
      "text/plain": [
       "HBox(children=(FloatProgress(value=0.0, description='COLLECTING | ', max=3.0, style=ProgressStyle(description_…"
      ]
     },
     "metadata": {},
     "output_type": "display_data"
    },
    {
     "name": "stdout",
     "output_type": "stream",
     "text": [
      "\n"
     ]
    },
    {
     "data": {
      "application/vnd.jupyter.widget-view+json": {
       "model_id": "6ef0b23f69764ecb9183ee33f39925bf",
       "version_major": 2,
       "version_minor": 0
      },
      "text/plain": [
       "HBox(children=(FloatProgress(value=0.0, description='SUBMITTING | ', max=3.0, style=ProgressStyle(description_…"
      ]
     },
     "metadata": {},
     "output_type": "display_data"
    },
    {
     "name": "stdout",
     "output_type": "stream",
     "text": [
      "\n"
     ]
    },
    {
     "data": {
      "application/vnd.jupyter.widget-view+json": {
       "model_id": "7fa41b1f2ca746da8c80cc89b8d18233",
       "version_major": 2,
       "version_minor": 0
      },
      "text/plain": [
       "HBox(children=(FloatProgress(value=0.0, description='PROCESSING | ', max=3.0, style=ProgressStyle(description_…"
      ]
     },
     "metadata": {},
     "output_type": "display_data"
    },
    {
     "name": "stdout",
     "output_type": "stream",
     "text": [
      "oyTSdhFEINEHUyuKytAPuk1SM7tiDcN4\n",
      "eOFoG5cYEhMjRBNUNO5buyVqNA7usokr\n",
      "82xER3gw8RaMeMEIGA3RpAzReCtIiEQg\n",
      "QyQxklRe8eTlAYpGghgRowStcMkNKiKH\n",
      "ZRekxAddETARjKgYwFDICqu46ppdgoiL\n",
      "jaZbY0Kb1nQ3pl7jC1KNIBpA0IbWjQqD\n",
      "KeW4L6CCqKiogCNIeXBcUAFBQNkUxI3C\n",
      "GGqMiWvwBS8egwmEuMraCQBSQ0kRIur\n",
      "cUZnVmf61pndsTOt7fQ2xUtVKgVri3Wp\n",
      "Jx9cOhpDIokxEQVNcEWN0TbEXUDcEFAY\n",
      "JHghaVOkrAoh6ZSQEhJTUVATkICiKUjS\n",
      "6MIhuv5TEGZWRLiZgXXK1NQsNUu7sZaa\n",
      "oiAqWDMMMgouaAIoYQ3iOGNhBJRFRQRk\n",
      "9M8uOtmNEjLCNIvoglgkI4KBZW2ieNvU\n",
      "Wgb3SNwQRQHZBH2wEsQlUURREAkwIDJg\n",
      "Y4yJyUBQCYhOjDHGoBwQk3UBKL2A54G\n",
      "EhJjzCH4ghdS72uJ0cT69wXRmoCxHNOo\n",
      "qOv4UB9g3FHakVI7w4htEQULiGC7HSwz\n",
      "LRVJNLrDF72IKMqSCs1MMtQdElSKGN29\n",
      "aCGP4qCCqKgMgwu5QIIjrIIgiBLWAaw\n",
      "CA6jgoWIC4sKCrjgwiKiQ824MoDgjkAk\n",
      "JhrfuExijGtiVNyJGlGi0VEicV9eaEEs\n",
      "iKtRQlR09YuGeEiUKBg8JkSDLho14rG1\n",
      "zqgz5QwzOqJjMYwygPoo6LM5jiGRQkp\n",
      "58RdtJRoROOCgkhcMEFZlEI2DypENG4s\n",
      "gAaltySaSoLVmgK5CBUCMYWKWGpUknTC\n",
      "RduCOu3CpTTaiuKtSFoVESDiCCyFKri\n",
      "zjjaYleZiqK1WuhMAbkJ09HCFioCyp0I\n",
      "lhowaKIVY0Rj3BI0MaghAYZspWxhE9SI\n",
      "OSqLgpQgIAMKRATZBALjsJWI4KBsPggo\n",
      "\n"
     ]
    },
    {
     "data": {
      "application/vnd.jupyter.widget-view+json": {
       "model_id": "7754b57cb65c4b9d8ef44ab4945ee407",
       "version_major": 2,
       "version_minor": 0
      },
      "text/plain": [
       "HBox(children=(FloatProgress(value=0.0, description='COLLECTING | ', max=3.0, style=ProgressStyle(description_…"
      ]
     },
     "metadata": {},
     "output_type": "display_data"
    },
    {
     "name": "stdout",
     "output_type": "stream",
     "text": [
      "\n"
     ]
    },
    {
     "data": {
      "application/vnd.jupyter.widget-view+json": {
       "model_id": "2924bd93d41840389377d14a1c7d32a1",
       "version_major": 2,
       "version_minor": 0
      },
      "text/plain": [
       "HBox(children=(FloatProgress(value=0.0, description='SUBMITTING | ', max=3.0, style=ProgressStyle(description_…"
      ]
     },
     "metadata": {},
     "output_type": "display_data"
    },
    {
     "name": "stdout",
     "output_type": "stream",
     "text": [
      "\n"
     ]
    },
    {
     "data": {
      "application/vnd.jupyter.widget-view+json": {
       "model_id": "8815342383bf4f45a252e7d863c0e915",
       "version_major": 2,
       "version_minor": 0
      },
      "text/plain": [
       "HBox(children=(FloatProgress(value=0.0, description='PROCESSING | ', max=3.0, style=ProgressStyle(description_…"
      ]
     },
     "metadata": {},
     "output_type": "display_data"
    },
    {
     "name": "stdout",
     "output_type": "stream",
     "text": [
      "q9gyFtfWjtgRurZWOkoLAhVKa0VaSAW2\n",
      "JkpjUtEgkkYqIgWFFBBZ0SBQcklBb4GS\n",
      "RVToWhxniqQstFPUQRFIAbGlYoswwOLQ\n",
      "obSjqIQANoiaqBQoFAhECQ8FCnQImOCB\n",
      "1E7Gru20oHgWitYW5QaQm2sQFGwU90M\n",
      "WgRJCPaP0kWBRYQLlTKwIKw040qlFaRF\n",
      "2qfZgGPTCrq21Y6MtooJtqZYQSBMYNtO\n",
      "FFF5ESQhmRGVF0UW0ZGo6APKsCNOFKp\n",
      "KpVWTIWiBNuQBIIkEljkqsQgClUujdSi\n",
      "ai3Otk7VOoQu9hkpVYQGKChTcNDCKq1a\n",
      "sRUVVsGLSxEFQeRYavUB8UIQhJVwBLm3\n",
      "7YoWFQ2slqqjZKQBEVAgUDUMsNCRWgEJ\n",
      "WsRSZzsMbbUNrkxrVSpGCagFKdUqbXVj\n",
      "AxRRDlFcEUHwQFdNUZHLBQURheEUEUoQ\n",
      "XQRJCFZE2UWCRYQXKmVgQVhpp45UmlJa\n",
      "hTJHMOGaEUUFQ7liQN3HVRFdBEkKahFk\n",
      "iGhijKERFBI1KiASkSBgEIilwAFxjIBA\n",
      "K7VTt0KZOCW4rVoHGQtKfAApIkXBxB0Z\n",
      "oxxFPEidERf0uA7iNk4IEBdCBSFBXAhB\n",
      "nY6nohRB5tD20GO1h5YYWUotwNaHfCo\n",
      "16x2Wq1PYoUX6i0qFURVBRQmaJV0aql\n",
      "RZYaUXBQXEZQRgVGXFELcRl2cUExOCwO\n",
      "ia5aK8lVvAoVH6ASYxJBjYouDSJRS42v\n",
      "QbbaB0Fpj1ZwgtXRGSyliAVhoOgslRYL\n",
      "jLHK1iRqrAAtWqIlBUnAIyZGPEqKSCOJ\n",
      "cbvuKyoOzsiig4I6OJaDig5uwIPsEITI\n",
      "nf6ws200kfzqxlHFudtmNr2xkVq9Ba\n",
      "1uk4OK4zTh9Uxp1xprbaTm1Lx6kUrdWx\n",
      "1Wo7VpFqpR1lWUptS1er2BZtXYSlEbuF\n",
      "MmpcGFRkgDmAOogoICBOUATZZBFBQbAB\n",
      "\n"
     ]
    },
    {
     "data": {
      "application/vnd.jupyter.widget-view+json": {
       "model_id": "01b77d3ed1fd4e6b8678d0c0815c3423",
       "version_major": 2,
       "version_minor": 0
      },
      "text/plain": [
       "HBox(children=(FloatProgress(value=0.0, description='COLLECTING | ', max=3.0, style=ProgressStyle(description_…"
      ]
     },
     "metadata": {},
     "output_type": "display_data"
    },
    {
     "name": "stdout",
     "output_type": "stream",
     "text": [
      "\n"
     ]
    }
   ],
   "source": [
    "r.run()"
   ]
  }
 ],
 "metadata": {
  "jupytext": {
   "cell_metadata_filter": "all",
   "notebook_metadata_filter": "all,-language_info",
   "text_representation": {
    "extension": ".py",
    "format_name": "light",
    "format_version": "1.5",
    "jupytext_version": "1.3.4"
   }
  },
  "kernelspec": {
   "display_name": "Python 3",
   "language": "python",
   "name": "python3"
  },
  "language_info": {
   "codemirror_mode": {
    "name": "ipython",
    "version": 3
   },
   "file_extension": ".py",
   "mimetype": "text/x-python",
   "name": "python",
   "nbconvert_exporter": "python",
   "pygments_lexer": "ipython3",
   "version": "3.8.1"
  }
 },
 "nbformat": 4,
 "nbformat_minor": 4
}
