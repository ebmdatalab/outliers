{
 "cells": [
  {
   "cell_type": "markdown",
   "metadata": {},
   "source": [
    "**This requires > the standard 2GB of memory in docker. It worked with 3.5GB, but less may be possible.**"
   ]
  },
  {
   "cell_type": "code",
   "execution_count": 1,
   "metadata": {},
   "outputs": [],
   "source": [
    "import pandas as pd\n",
    "from ebmdatalab import bq\n",
    "from lib.outliers import *"
   ]
  },
  {
   "cell_type": "code",
   "execution_count": 2,
   "metadata": {},
   "outputs": [
    {
     "data": {
      "text/html": [
       "<table border=\"1\" class=\"dataframe\">\n",
       "  <thead>\n",
       "    <tr style=\"text-align: right;\">\n",
       "      <th></th>\n",
       "      <th>practice</th>\n",
       "      <th>pcn</th>\n",
       "      <th>ccg</th>\n",
       "      <th>chemical</th>\n",
       "      <th>subpara</th>\n",
       "      <th>numerator</th>\n",
       "    </tr>\n",
       "  </thead>\n",
       "  <tbody>\n",
       "    <tr>\n",
       "      <th>0</th>\n",
       "      <td>C83009</td>\n",
       "      <td>U58704</td>\n",
       "      <td>04D</td>\n",
       "      <td>1001040C0</td>\n",
       "      <td>1001040</td>\n",
       "      <td>712</td>\n",
       "    </tr>\n",
       "    <tr>\n",
       "      <th>1</th>\n",
       "      <td>H81069</td>\n",
       "      <td>U67032</td>\n",
       "      <td>10C</td>\n",
       "      <td>0601021M0</td>\n",
       "      <td>0601021</td>\n",
       "      <td>406</td>\n",
       "    </tr>\n",
       "    <tr>\n",
       "      <th>2</th>\n",
       "      <td>M83096</td>\n",
       "      <td>U91937</td>\n",
       "      <td>05G</td>\n",
       "      <td>0307000J0</td>\n",
       "      <td>0307000</td>\n",
       "      <td>302</td>\n",
       "    </tr>\n",
       "    <tr>\n",
       "      <th>3</th>\n",
       "      <td>A83030</td>\n",
       "      <td>U01989</td>\n",
       "      <td>00J</td>\n",
       "      <td>0202020D0</td>\n",
       "      <td>0202020</td>\n",
       "      <td>148</td>\n",
       "    </tr>\n",
       "    <tr>\n",
       "      <th>4</th>\n",
       "      <td>N81117</td>\n",
       "      <td>U85986</td>\n",
       "      <td>02F</td>\n",
       "      <td>0906026M0</td>\n",
       "      <td>0906026</td>\n",
       "      <td>235</td>\n",
       "    </tr>\n",
       "  </tbody>\n",
       "</table>"
      ],
      "text/plain": [
       "  practice     pcn  ccg   chemical  subpara  numerator\n",
       "0   C83009  U58704  04D  1001040C0  1001040        712\n",
       "1   H81069  U67032  10C  0601021M0  0601021        406\n",
       "2   M83096  U91937  05G  0307000J0  0307000        302\n",
       "3   A83030  U01989  00J  0202020D0  0202020        148\n",
       "4   N81117  U85986  02F  0906026M0  0906026        235"
      ]
     },
     "execution_count": 2,
     "metadata": {},
     "output_type": "execute_result"
    }
   ],
   "source": [
    "with open(\"../data/static_outlier_sql/chem_per_para.sql\") as sql:\n",
    "    query = sql.read()\n",
    "#chem_per_para = bq.cached_read(query, csv_path='data/chem_per_para.zip')\n",
    "\n",
    "## reload specifying data type currently required\n",
    "## due to https://github.com/ebmdatalab/datalab-pandas/issues/26\n",
    "chem_per_para = pd.read_csv('../data/chem_per_para.zip',dtype={'subpara': str})\n",
    "chem_per_para.head()"
   ]
  },
  {
   "cell_type": "code",
   "execution_count": 3,
   "metadata": {},
   "outputs": [],
   "source": [
    "## WHAT TO DO WHERE DENOMINATOR == 0?"
   ]
  },
  {
   "cell_type": "code",
   "execution_count": 4,
   "metadata": {},
   "outputs": [
    {
     "data": {
      "application/vnd.jupyter.widget-view+json": {
       "model_id": "3a562291d75e4c09a19129acf6f3b201",
       "version_major": 2,
       "version_minor": 0
      },
      "text/plain": [
       "HBox(children=(FloatProgress(value=0.0, description='Writing HTML: practice', max=10.0, style=ProgressStyle(de…"
      ]
     },
     "metadata": {},
     "output_type": "display_data"
    },
    {
     "name": "stdout",
     "output_type": "stream",
     "text": [
      "\n"
     ]
    },
    {
     "data": {
      "application/vnd.jupyter.widget-view+json": {
       "model_id": "62c1422589d04ee5948767d46e12fa79",
       "version_major": 2,
       "version_minor": 0
      },
      "text/plain": [
       "HBox(children=(FloatProgress(value=0.0, description='Writing HTML: pcn', max=10.0, style=ProgressStyle(descrip…"
      ]
     },
     "metadata": {},
     "output_type": "display_data"
    },
    {
     "name": "stdout",
     "output_type": "stream",
     "text": [
      "\n"
     ]
    },
    {
     "data": {
      "application/vnd.jupyter.widget-view+json": {
       "model_id": "0cc137faa6d642069faeae7b54f8c369",
       "version_major": 2,
       "version_minor": 0
      },
      "text/plain": [
       "HBox(children=(FloatProgress(value=0.0, description='Writing HTML: ccg', max=10.0, style=ProgressStyle(descrip…"
      ]
     },
     "metadata": {},
     "output_type": "display_data"
    },
    {
     "name": "stdout",
     "output_type": "stream",
     "text": [
      "\n"
     ]
    }
   ],
   "source": [
    "loop_over_everything(chem_per_para, ['practice','pcn','ccg',])"
   ]
  }
 ],
 "metadata": {
  "jupytext": {
   "cell_metadata_filter": "all",
   "notebook_metadata_filter": "all,-language_info",
   "text_representation": {
    "extension": ".py",
    "format_name": "light",
    "format_version": "1.5",
    "jupytext_version": "1.3.4"
   }
  },
  "kernelspec": {
   "display_name": "Python 3",
   "language": "python",
   "name": "python3"
  },
  "language_info": {
   "codemirror_mode": {
    "name": "ipython",
    "version": 3
   },
   "file_extension": ".py",
   "mimetype": "text/x-python",
   "name": "python",
   "nbconvert_exporter": "python",
   "pygments_lexer": "ipython3",
   "version": "3.8.1"
  }
 },
 "nbformat": 4,
 "nbformat_minor": 4
}
