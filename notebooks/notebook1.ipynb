{
 "cells": [
  {
   "cell_type": "markdown",
   "metadata": {},
   "source": [
    "**This requires > the standard 2GB of memory in docker. It worked with 3.5GB, but less may be possible.**"
   ]
  },
  {
   "cell_type": "code",
   "execution_count": 1,
   "metadata": {},
   "outputs": [],
   "source": [
    "import pandas as pd\n",
    "from ebmdatalab import bq\n",
    "from lib.outliers import *"
   ]
  },
  {
   "cell_type": "code",
   "execution_count": 2,
   "metadata": {},
   "outputs": [
    {
     "data": {
      "text/html": [
       "<table border=\"1\" class=\"dataframe\">\n",
       "  <thead>\n",
       "    <tr style=\"text-align: right;\">\n",
       "      <th></th>\n",
       "      <th>practice</th>\n",
       "      <th>pcn</th>\n",
       "      <th>ccg</th>\n",
       "      <th>chemical</th>\n",
       "      <th>subpara</th>\n",
       "      <th>numerator</th>\n",
       "    </tr>\n",
       "  </thead>\n",
       "  <tbody>\n",
       "    <tr>\n",
       "      <th>0</th>\n",
       "      <td>C83009</td>\n",
       "      <td>U58704</td>\n",
       "      <td>04D</td>\n",
       "      <td>1001040C0</td>\n",
       "      <td>1001040</td>\n",
       "      <td>712</td>\n",
       "    </tr>\n",
       "    <tr>\n",
       "      <th>1</th>\n",
       "      <td>H81069</td>\n",
       "      <td>U67032</td>\n",
       "      <td>10C</td>\n",
       "      <td>0601021M0</td>\n",
       "      <td>0601021</td>\n",
       "      <td>406</td>\n",
       "    </tr>\n",
       "    <tr>\n",
       "      <th>2</th>\n",
       "      <td>M83096</td>\n",
       "      <td>U91937</td>\n",
       "      <td>05G</td>\n",
       "      <td>0307000J0</td>\n",
       "      <td>0307000</td>\n",
       "      <td>302</td>\n",
       "    </tr>\n",
       "    <tr>\n",
       "      <th>3</th>\n",
       "      <td>A83030</td>\n",
       "      <td>U01989</td>\n",
       "      <td>00J</td>\n",
       "      <td>0202020D0</td>\n",
       "      <td>0202020</td>\n",
       "      <td>148</td>\n",
       "    </tr>\n",
       "    <tr>\n",
       "      <th>4</th>\n",
       "      <td>N81117</td>\n",
       "      <td>U85986</td>\n",
       "      <td>02F</td>\n",
       "      <td>0906026M0</td>\n",
       "      <td>0906026</td>\n",
       "      <td>235</td>\n",
       "    </tr>\n",
       "  </tbody>\n",
       "</table>"
      ],
      "text/plain": [
       "  practice     pcn  ccg   chemical  subpara  numerator\n",
       "0   C83009  U58704  04D  1001040C0  1001040        712\n",
       "1   H81069  U67032  10C  0601021M0  0601021        406\n",
       "2   M83096  U91937  05G  0307000J0  0307000        302\n",
       "3   A83030  U01989  00J  0202020D0  0202020        148\n",
       "4   N81117  U85986  02F  0906026M0  0906026        235"
      ]
     },
     "execution_count": 2,
     "metadata": {},
     "output_type": "execute_result"
    }
   ],
   "source": [
    "with open(\"../data/static_outlier_sql/chem_per_para.sql\") as sql:\n",
    "    query = sql.read()\n",
    "#chem_per_para = bq.cached_read(query, csv_path='data/chem_per_para.zip')\n",
    "\n",
    "## reload specifying data type currently required\n",
    "## due to https://github.com/ebmdatalab/datalab-pandas/issues/26\n",
    "chem_per_para = pd.read_csv('../data/chem_per_para.zip',dtype={'subpara': str})\n",
    "chem_per_para.head()"
   ]
  },
  {
   "cell_type": "code",
   "execution_count": 3,
   "metadata": {},
   "outputs": [],
   "source": [
    "## WHAT TO DO WHERE DENOMINATOR == 0?"
   ]
  },
  {
   "cell_type": "markdown",
   "metadata": {},
   "source": [
    "stats_class = StaticOutlierStats(\n",
    "    df=chem_per_para,\n",
    "    entity_type='ccg',\n",
    "    num_code='chemical',\n",
    "    denom_code='subpara'\n",
    ")\n",
    "stats = stats_class.get_table()\n",
    "stats.head()"
   ]
  },
  {
   "cell_type": "code",
   "execution_count": 4,
   "metadata": {},
   "outputs": [],
   "source": [
    "from lib.make_html import write_to_template\n",
    "    \n",
    "def loop_over_everything(df, entities):\n",
    "    for ent_type in entities:\n",
    "        entity_names = entity_names_query(ent_type)\n",
    "        stats_class = StaticOutlierStats(\n",
    "            df=df,\n",
    "            entity_type=ent_type,\n",
    "            num_code='chemical',\n",
    "            denom_code='subpara'\n",
    "        )\n",
    "        stats = stats_class.get_table()\n",
    "        \n",
    "        table_high = create_out_table(\n",
    "            df=stats,\n",
    "            attr=stats_class,\n",
    "            entity_type=ent_type,\n",
    "            table_length=5,\n",
    "            ascending=False\n",
    "        )\n",
    "        table_low = create_out_table(\n",
    "            df=stats,\n",
    "            attr=stats_class,\n",
    "            entity_type=ent_type,\n",
    "            table_length=5,\n",
    "            ascending=True\n",
    "        )\n",
    "        \n",
    "        codes = stats.index.get_level_values(0).unique()[0:10]\n",
    "        for code in tqdm(codes, desc=f'Writing HTML: {ent_type}'):\n",
    "            output_file = f'static_{ent_type}_{code}'\n",
    "            write_to_template(\n",
    "                entity_names.loc[code,'name'],\n",
    "                table_high.loc[code],\n",
    "                table_low.loc[code],\n",
    "                output_file,\n",
    "            )"
   ]
  },
  {
   "cell_type": "code",
   "execution_count": 5,
   "metadata": {},
   "outputs": [
    {
     "name": "stderr",
     "output_type": "stream",
     "text": [
      "/root/.pyenv/versions/3.8.1/lib/python3.8/site-packages/tqdm/std.py:658: FutureWarning: The Panel class is removed from pandas. Accessing it from the top-level namespace will also be removed in the next version\n",
      "  from pandas import Panel\n"
     ]
    },
    {
     "data": {
      "application/vnd.jupyter.widget-view+json": {
       "model_id": "2a4a01424baa4323b2c3bb1e468a4238",
       "version_major": 2,
       "version_minor": 0
      },
      "text/plain": [
       "HBox(children=(FloatProgress(value=0.0, description='Drawing plots: ccg', max=960.0, style=ProgressStyle(descr…"
      ]
     },
     "metadata": {},
     "output_type": "display_data"
    },
    {
     "name": "stdout",
     "output_type": "stream",
     "text": [
      "\n"
     ]
    },
    {
     "name": "stderr",
     "output_type": "stream",
     "text": [
      "/root/.pyenv/versions/3.8.1/lib/python3.8/site-packages/tqdm/std.py:658: FutureWarning: The Panel class is removed from pandas. Accessing it from the top-level namespace will also be removed in the next version\n",
      "  from pandas import Panel\n"
     ]
    },
    {
     "data": {
      "application/vnd.jupyter.widget-view+json": {
       "model_id": "1d2bd65f0abe41df91a00036e46988a9",
       "version_major": 2,
       "version_minor": 0
      },
      "text/plain": [
       "HBox(children=(FloatProgress(value=0.0, description='Drawing plots: ccg', max=960.0, style=ProgressStyle(descr…"
      ]
     },
     "metadata": {},
     "output_type": "display_data"
    },
    {
     "name": "stdout",
     "output_type": "stream",
     "text": [
      "\n"
     ]
    },
    {
     "data": {
      "application/vnd.jupyter.widget-view+json": {
       "model_id": "583c7b079cda4b4295ca859f19d188eb",
       "version_major": 2,
       "version_minor": 0
      },
      "text/plain": [
       "HBox(children=(FloatProgress(value=0.0, description='Writing HTML: ccg', max=10.0, style=ProgressStyle(descrip…"
      ]
     },
     "metadata": {},
     "output_type": "display_data"
    },
    {
     "name": "stdout",
     "output_type": "stream",
     "text": [
      "\n"
     ]
    }
   ],
   "source": [
    "loop_over_everything(chem_per_para, ['ccg'])"
   ]
  }
 ],
 "metadata": {
  "jupytext": {
   "cell_metadata_filter": "all",
   "notebook_metadata_filter": "all,-language_info",
   "text_representation": {
    "extension": ".py",
    "format_name": "light",
    "format_version": "1.5",
    "jupytext_version": "1.3.4"
   }
  },
  "kernelspec": {
   "display_name": "Python 3",
   "language": "python",
   "name": "python3"
  },
  "language_info": {
   "codemirror_mode": {
    "name": "ipython",
    "version": 3
   },
   "file_extension": ".py",
   "mimetype": "text/x-python",
   "name": "python",
   "nbconvert_exporter": "python",
   "pygments_lexer": "ipython3",
   "version": "3.8.1"
  }
 },
 "nbformat": 4,
 "nbformat_minor": 4
}
