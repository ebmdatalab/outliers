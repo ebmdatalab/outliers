{
 "cells": [
  {
   "cell_type": "code",
   "execution_count": 1,
   "metadata": {},
   "outputs": [],
   "source": [
    "from lib.outliers import Runner\n",
    "from datetime import date\n",
    "import pandas as pd"
   ]
  },
  {
   "cell_type": "code",
   "execution_count": 2,
   "metadata": {},
   "outputs": [],
   "source": [
    "from_date = date(year=2021,month=4,day=1)\n",
    "to_date = date(year=2021,month=8,day=1)\n",
    "r = Runner(from_date,to_date,5,[\"practice\",\"ccg\",\"pcn\",\"stp\"],False)"
   ]
  },
  {
   "cell_type": "code",
   "execution_count": null,
   "metadata": {},
   "outputs": [],
   "source": [
    "r.run()"
   ]
  },
  {
   "cell_type": "code",
   "execution_count": 4,
   "metadata": {},
   "outputs": [],
   "source": [
    "### Extracting all the stored z scores etc across organisations\n",
    "### so that summary statistics can be calculated\n",
    "\n",
    "e_data = pd.concat(\n",
    "    (d.assign(entity=e) for e, d in r.build.results.items())\n",
    ")"
   ]
  },
  {
   "cell_type": "markdown",
   "metadata": {},
   "source": [
    "## Entity counts\n",
    "\n",
    "Counts of each kind of entity (i.e., organisation)."
   ]
  },
  {
   "cell_type": "code",
   "execution_count": 5,
   "metadata": {},
   "outputs": [
    {
     "data": {
      "text/html": [
       "<div>\n",
       "<style scoped>\n",
       "    .dataframe tbody tr th:only-of-type {\n",
       "        vertical-align: middle;\n",
       "    }\n",
       "\n",
       "    .dataframe tbody tr th {\n",
       "        vertical-align: top;\n",
       "    }\n",
       "\n",
       "    .dataframe thead th {\n",
       "        text-align: right;\n",
       "    }\n",
       "</style>\n",
       "<table border=\"1\" class=\"dataframe\">\n",
       "  <thead>\n",
       "    <tr style=\"text-align: right;\">\n",
       "      <th></th>\n",
       "      <th>n</th>\n",
       "    </tr>\n",
       "  </thead>\n",
       "  <tbody>\n",
       "    <tr>\n",
       "      <th>practice</th>\n",
       "      <td>6499</td>\n",
       "    </tr>\n",
       "    <tr>\n",
       "      <th>pcn</th>\n",
       "      <td>1257</td>\n",
       "    </tr>\n",
       "    <tr>\n",
       "      <th>ccg</th>\n",
       "      <td>106</td>\n",
       "    </tr>\n",
       "    <tr>\n",
       "      <th>stp</th>\n",
       "      <td>42</td>\n",
       "    </tr>\n",
       "  </tbody>\n",
       "</table>\n",
       "</div>"
      ],
      "text/plain": [
       "             n\n",
       "practice  6499\n",
       "pcn       1257\n",
       "ccg        106\n",
       "stp         42"
      ]
     },
     "execution_count": 5,
     "metadata": {},
     "output_type": "execute_result"
    }
   ],
   "source": [
    "### Summarising the number of each kind of entity (organisation)\n",
    "\n",
    "e_counts = ( e_data.reset_index()[[\"practice\",\"entity\"]]\n",
    "            .drop_duplicates()['entity']\n",
    "            .value_counts()\n",
    "            .to_frame()\n",
    "            .rename( columns={'entity':'n'} ) )\n",
    "\n",
    "e_counts"
   ]
  },
  {
   "cell_type": "markdown",
   "metadata": {},
   "source": [
    "## Chemical counts\n",
    "\n",
    "Counts of the number of chemicals for which we have data (Z scores etc)\n",
    "within each type of organisation."
   ]
  },
  {
   "cell_type": "code",
   "execution_count": 6,
   "metadata": {},
   "outputs": [
    {
     "data": {
      "text/html": [
       "<div>\n",
       "<style scoped>\n",
       "    .dataframe tbody tr th:only-of-type {\n",
       "        vertical-align: middle;\n",
       "    }\n",
       "\n",
       "    .dataframe tbody tr th {\n",
       "        vertical-align: top;\n",
       "    }\n",
       "\n",
       "    .dataframe thead th {\n",
       "        text-align: right;\n",
       "    }\n",
       "</style>\n",
       "<table border=\"1\" class=\"dataframe\">\n",
       "  <thead>\n",
       "    <tr style=\"text-align: right;\">\n",
       "      <th></th>\n",
       "      <th>chemicals</th>\n",
       "    </tr>\n",
       "  </thead>\n",
       "  <tbody>\n",
       "    <tr>\n",
       "      <th>pcn</th>\n",
       "      <td>1294</td>\n",
       "    </tr>\n",
       "    <tr>\n",
       "      <th>practice</th>\n",
       "      <td>1274</td>\n",
       "    </tr>\n",
       "    <tr>\n",
       "      <th>ccg</th>\n",
       "      <td>706</td>\n",
       "    </tr>\n",
       "    <tr>\n",
       "      <th>stp</th>\n",
       "      <td>364</td>\n",
       "    </tr>\n",
       "  </tbody>\n",
       "</table>\n",
       "</div>"
      ],
      "text/plain": [
       "          chemicals\n",
       "pcn            1294\n",
       "practice       1274\n",
       "ccg             706\n",
       "stp             364"
      ]
     },
     "execution_count": 6,
     "metadata": {},
     "output_type": "execute_result"
    }
   ],
   "source": [
    "### Summarising the number of unique chemicals analysed within\n",
    "### each type of organisation\n",
    "\n",
    "c_counts = ( e_data.reset_index()[[\"chemical\",\"entity\"]]\n",
    "            .drop_duplicates()['entity']\n",
    "            .value_counts()\n",
    "            .to_frame()\n",
    "            .rename( columns={'entity':'chemicals'} ) )\n",
    "\n",
    "c_counts"
   ]
  },
  {
   "cell_type": "code",
   "execution_count": 7,
   "metadata": {
    "lines_to_next_cell": 2
   },
   "outputs": [],
   "source": [
    "### Combining the entity and chemical counts\n",
    "\n",
    "all_counts = e_counts.join( c_counts )"
   ]
  },
  {
   "cell_type": "code",
   "execution_count": 8,
   "metadata": {
    "lines_to_next_cell": 2
   },
   "outputs": [],
   "source": [
    "### Calculating summary statistics for the ratio and the Z score\n",
    "### within each entity type\n",
    "\n",
    "all_summary = e_data.groupby( \"entity\" )[[\"ratio\",\"z_score\"]].describe().reindex(['stp', 'ccg', 'pcn', 'practice']).stack(level=0)\n",
    "all_summary = all_summary.rename( columns={\"50%\":\"median\"}, inplace=False )\n",
    "\n",
    "### Defining which metrics will be displayed below\n",
    "metrics_to_show = [ \"n\", \"chemicals\", \"median\",\"max\",\"min\",\"IQR\" ]"
   ]
  },
  {
   "cell_type": "markdown",
   "metadata": {},
   "source": [
    "## Summary statistics for the z score in each organisation type"
   ]
  },
  {
   "cell_type": "code",
   "execution_count": 9,
   "metadata": {},
   "outputs": [
    {
     "data": {
      "text/html": [
       "<div>\n",
       "<style scoped>\n",
       "    .dataframe tbody tr th:only-of-type {\n",
       "        vertical-align: middle;\n",
       "    }\n",
       "\n",
       "    .dataframe tbody tr th {\n",
       "        vertical-align: top;\n",
       "    }\n",
       "\n",
       "    .dataframe thead th {\n",
       "        text-align: right;\n",
       "    }\n",
       "</style>\n",
       "<table border=\"1\" class=\"dataframe\">\n",
       "  <thead>\n",
       "    <tr style=\"text-align: right;\">\n",
       "      <th></th>\n",
       "      <th>n</th>\n",
       "      <th>chemicals</th>\n",
       "      <th>median</th>\n",
       "      <th>max</th>\n",
       "      <th>min</th>\n",
       "      <th>IQR</th>\n",
       "    </tr>\n",
       "    <tr>\n",
       "      <th>entity</th>\n",
       "      <th></th>\n",
       "      <th></th>\n",
       "      <th></th>\n",
       "      <th></th>\n",
       "      <th></th>\n",
       "      <th></th>\n",
       "    </tr>\n",
       "  </thead>\n",
       "  <tbody>\n",
       "    <tr>\n",
       "      <th>stp</th>\n",
       "      <td>42</td>\n",
       "      <td>364</td>\n",
       "      <td>3.82</td>\n",
       "      <td>6.33</td>\n",
       "      <td>-6.33</td>\n",
       "      <td>8.90</td>\n",
       "    </tr>\n",
       "    <tr>\n",
       "      <th>ccg</th>\n",
       "      <td>106</td>\n",
       "      <td>706</td>\n",
       "      <td>3.57</td>\n",
       "      <td>10.20</td>\n",
       "      <td>-10.20</td>\n",
       "      <td>10.14</td>\n",
       "    </tr>\n",
       "    <tr>\n",
       "      <th>pcn</th>\n",
       "      <td>1257</td>\n",
       "      <td>1294</td>\n",
       "      <td>2.58</td>\n",
       "      <td>543.19</td>\n",
       "      <td>-141.33</td>\n",
       "      <td>9.86</td>\n",
       "    </tr>\n",
       "    <tr>\n",
       "      <th>practice</th>\n",
       "      <td>6499</td>\n",
       "      <td>1274</td>\n",
       "      <td>0.00</td>\n",
       "      <td>5512.02</td>\n",
       "      <td>-711.87</td>\n",
       "      <td>9.72</td>\n",
       "    </tr>\n",
       "  </tbody>\n",
       "</table>\n",
       "</div>"
      ],
      "text/plain": [
       "             n  chemicals  median      max     min    IQR\n",
       "entity                                                   \n",
       "stp         42        364    3.82     6.33   -6.33   8.90\n",
       "ccg        106        706    3.57    10.20  -10.20  10.14\n",
       "pcn       1257       1294    2.58   543.19 -141.33   9.86\n",
       "practice  6499       1274    0.00  5512.02 -711.87   9.72"
      ]
     },
     "execution_count": 9,
     "metadata": {},
     "output_type": "execute_result"
    }
   ],
   "source": [
    "### Extracting the summary statistics for the z scores\n",
    "z_tmp = all_summary[all_summary.index.isin([\"z_score\"], level=1)]\n",
    "\n",
    "### Calculating IQR, removing the row index and rounding to 2dp\n",
    "z_summary = ( z_tmp\n",
    "         .assign( IQR = z_tmp[\"75%\"]-z_tmp[\"25%\"] )\n",
    "         .droplevel(level=1)\n",
    "         .round(2) )\n",
    "\n",
    "z_summary.join( all_counts )[metrics_to_show]"
   ]
  },
  {
   "cell_type": "markdown",
   "metadata": {},
   "source": [
    "## Summary statistics for the ratio in each organisation type"
   ]
  },
  {
   "cell_type": "code",
   "execution_count": 10,
   "metadata": {
    "lines_to_next_cell": 0
   },
   "outputs": [
    {
     "data": {
      "text/html": [
       "<div>\n",
       "<style scoped>\n",
       "    .dataframe tbody tr th:only-of-type {\n",
       "        vertical-align: middle;\n",
       "    }\n",
       "\n",
       "    .dataframe tbody tr th {\n",
       "        vertical-align: top;\n",
       "    }\n",
       "\n",
       "    .dataframe thead th {\n",
       "        text-align: right;\n",
       "    }\n",
       "</style>\n",
       "<table border=\"1\" class=\"dataframe\">\n",
       "  <thead>\n",
       "    <tr style=\"text-align: right;\">\n",
       "      <th></th>\n",
       "      <th>n</th>\n",
       "      <th>chemicals</th>\n",
       "      <th>median</th>\n",
       "      <th>max</th>\n",
       "      <th>min</th>\n",
       "      <th>IQR</th>\n",
       "    </tr>\n",
       "    <tr>\n",
       "      <th>entity</th>\n",
       "      <th></th>\n",
       "      <th></th>\n",
       "      <th></th>\n",
       "      <th></th>\n",
       "      <th></th>\n",
       "      <th></th>\n",
       "    </tr>\n",
       "  </thead>\n",
       "  <tbody>\n",
       "    <tr>\n",
       "      <th>stp</th>\n",
       "      <td>42</td>\n",
       "      <td>364</td>\n",
       "      <td>0.09</td>\n",
       "      <td>1.0</td>\n",
       "      <td>0.0</td>\n",
       "      <td>0.64</td>\n",
       "    </tr>\n",
       "    <tr>\n",
       "      <th>ccg</th>\n",
       "      <td>106</td>\n",
       "      <td>706</td>\n",
       "      <td>0.12</td>\n",
       "      <td>1.0</td>\n",
       "      <td>0.0</td>\n",
       "      <td>0.61</td>\n",
       "    </tr>\n",
       "    <tr>\n",
       "      <th>pcn</th>\n",
       "      <td>1257</td>\n",
       "      <td>1294</td>\n",
       "      <td>0.13</td>\n",
       "      <td>1.0</td>\n",
       "      <td>0.0</td>\n",
       "      <td>0.49</td>\n",
       "    </tr>\n",
       "    <tr>\n",
       "      <th>practice</th>\n",
       "      <td>6499</td>\n",
       "      <td>1274</td>\n",
       "      <td>0.14</td>\n",
       "      <td>1.0</td>\n",
       "      <td>0.0</td>\n",
       "      <td>0.44</td>\n",
       "    </tr>\n",
       "  </tbody>\n",
       "</table>\n",
       "</div>"
      ],
      "text/plain": [
       "             n  chemicals  median  max  min   IQR\n",
       "entity                                           \n",
       "stp         42        364    0.09  1.0  0.0  0.64\n",
       "ccg        106        706    0.12  1.0  0.0  0.61\n",
       "pcn       1257       1294    0.13  1.0  0.0  0.49\n",
       "practice  6499       1274    0.14  1.0  0.0  0.44"
      ]
     },
     "execution_count": 10,
     "metadata": {},
     "output_type": "execute_result"
    }
   ],
   "source": [
    "### Extracting the summary statistics for the z scores\n",
    "ratio_tmp = all_summary[all_summary.index.isin([\"ratio\"], level=1)]\n",
    "\n",
    "### Calculating IQR, removing the row index and rounding to 2dp\n",
    "ratio_summary = ( ratio_tmp\n",
    "         .assign( IQR = ratio_tmp[\"75%\"]-ratio_tmp[\"25%\"] )\n",
    "         .droplevel(level=1)\n",
    "         .round(2) )\n",
    "\n",
    "ratio_summary.join( all_counts )[metrics_to_show]"
   ]
  },
  {
   "cell_type": "code",
   "execution_count": null,
   "metadata": {},
   "outputs": [],
   "source": []
  }
 ],
 "metadata": {
  "jupytext": {
   "cell_metadata_filter": "all",
   "encoding": "# -*- coding: utf-8 -*-",
   "notebook_metadata_filter": "all,-language_info",
   "text_representation": {
    "extension": ".py",
    "format_name": "light",
    "format_version": "1.5",
    "jupytext_version": "1.3.4"
   }
  },
  "kernelspec": {
   "display_name": "Python 3",
   "language": "python",
   "name": "python3"
  },
  "language_info": {
   "codemirror_mode": {
    "name": "ipython",
    "version": 3
   },
   "file_extension": ".py",
   "mimetype": "text/x-python",
   "name": "python",
   "nbconvert_exporter": "python",
   "pygments_lexer": "ipython3",
   "version": "3.8.1"
  }
 },
 "nbformat": 4,
 "nbformat_minor": 4
}
