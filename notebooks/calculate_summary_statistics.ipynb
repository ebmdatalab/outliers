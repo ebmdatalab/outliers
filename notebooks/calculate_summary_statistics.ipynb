{
 "cells": [
  {
   "cell_type": "code",
   "execution_count": 1,
   "metadata": {},
   "outputs": [],
   "source": [
    "from lib.outliers import Runner\n",
    "from datetime import date\n",
    "import pandas as pd"
   ]
  },
  {
   "cell_type": "code",
   "execution_count": 2,
   "metadata": {},
   "outputs": [],
   "source": [
    "from_date = date(year=2021,month=4,day=1)\n",
    "to_date = date(year=2021,month=8,day=1)\n",
    "r = Runner(from_date,to_date,5,[\"practice\",\"ccg\",\"pcn\",\"stp\"],False)"
   ]
  },
  {
   "cell_type": "code",
   "execution_count": 3,
   "metadata": {},
   "outputs": [
    {
     "name": "stdout",
     "output_type": "stream",
     "text": [
      "Please visit this URL to authorize this application: https://accounts.google.com/o/oauth2/auth?response_type=code&client_id=725825577420-unm2gnkiprugilg743tkbig250f4sfsj.apps.googleusercontent.com&redirect_uri=urn%3Aietf%3Awg%3Aoauth%3A2.0%3Aoob&scope=https%3A%2F%2Fwww.googleapis.com%2Fauth%2Fbigquery&state=B0aBfO2cFTgPTpWIrbEXhCszrTmcNv&prompt=consent&access_type=offline\n"
     ]
    },
    {
     "name": "stdin",
     "output_type": "stream",
     "text": [
      "Enter the authorization code:  4/1AX4XfWjWfGmWhSn3IUgFJA9Y1gOE418Hgdc8PD98NKa2Y2AW1-2axRotGlg\n"
     ]
    },
    {
     "name": "stderr",
     "output_type": "stream",
     "text": [
      "Downloading: 100%|██████████| 1/1 [00:00<00:00,  4.85rows/s]\n"
     ]
    }
   ],
   "source": [
    "r.build.run()\n",
    "r.build.fetch_results()"
   ]
  },
  {
   "cell_type": "code",
   "execution_count": 14,
   "metadata": {},
   "outputs": [],
   "source": [
    "### Extracting all the stored z scores etc across organisations\n",
    "### so that summary statistics can be calculated\n",
    "\n",
    "e_data = pd.concat(\n",
    "    (d.assign(entity=e) for e, d in r.build.results.items())\n",
    ")"
   ]
  },
  {
   "cell_type": "markdown",
   "metadata": {},
   "source": [
    "## Entity counts\n",
    "\n",
    "Counts of each kind of entity (i.e., organisation)."
   ]
  },
  {
   "cell_type": "code",
   "execution_count": 15,
   "metadata": {},
   "outputs": [
    {
     "data": {
      "text/html": [
       "<div>\n",
       "<style scoped>\n",
       "    .dataframe tbody tr th:only-of-type {\n",
       "        vertical-align: middle;\n",
       "    }\n",
       "\n",
       "    .dataframe tbody tr th {\n",
       "        vertical-align: top;\n",
       "    }\n",
       "\n",
       "    .dataframe thead th {\n",
       "        text-align: right;\n",
       "    }\n",
       "</style>\n",
       "<table border=\"1\" class=\"dataframe\">\n",
       "  <thead>\n",
       "    <tr style=\"text-align: right;\">\n",
       "      <th></th>\n",
       "      <th>n</th>\n",
       "    </tr>\n",
       "  </thead>\n",
       "  <tbody>\n",
       "    <tr>\n",
       "      <th>practice</th>\n",
       "      <td>6499</td>\n",
       "    </tr>\n",
       "    <tr>\n",
       "      <th>pcn</th>\n",
       "      <td>1257</td>\n",
       "    </tr>\n",
       "    <tr>\n",
       "      <th>ccg</th>\n",
       "      <td>106</td>\n",
       "    </tr>\n",
       "    <tr>\n",
       "      <th>stp</th>\n",
       "      <td>42</td>\n",
       "    </tr>\n",
       "  </tbody>\n",
       "</table>\n",
       "</div>"
      ],
      "text/plain": [
       "             n\n",
       "practice  6499\n",
       "pcn       1257\n",
       "ccg        106\n",
       "stp         42"
      ]
     },
     "execution_count": 15,
     "metadata": {},
     "output_type": "execute_result"
    }
   ],
   "source": [
    "### Summarising the number of each kind of entity (organisation)\n",
    "\n",
    "e_counts = ( e_data.reset_index()[[\"practice\",\"entity\"]]\n",
    "            .drop_duplicates()['entity']\n",
    "            .value_counts()\n",
    "            .to_frame()\n",
    "            .rename( columns={'entity':'n'} ) )\n",
    "\n",
    "e_counts"
   ]
  },
  {
   "cell_type": "markdown",
   "metadata": {},
   "source": [
    "## Chemical counts\n",
    "\n",
    "Counts of the number of unique outlying chemicals (i.e., those identified in the top/bottom\n",
    "5 z scores) amongst all organisations of the given type."
   ]
  },
  {
   "cell_type": "code",
   "execution_count": 16,
   "metadata": {},
   "outputs": [
    {
     "data": {
      "text/html": [
       "<div>\n",
       "<style scoped>\n",
       "    .dataframe tbody tr th:only-of-type {\n",
       "        vertical-align: middle;\n",
       "    }\n",
       "\n",
       "    .dataframe tbody tr th {\n",
       "        vertical-align: top;\n",
       "    }\n",
       "\n",
       "    .dataframe thead th {\n",
       "        text-align: right;\n",
       "    }\n",
       "</style>\n",
       "<table border=\"1\" class=\"dataframe\">\n",
       "  <thead>\n",
       "    <tr style=\"text-align: right;\">\n",
       "      <th></th>\n",
       "      <th>chemicals</th>\n",
       "    </tr>\n",
       "  </thead>\n",
       "  <tbody>\n",
       "    <tr>\n",
       "      <th>pcn</th>\n",
       "      <td>1294</td>\n",
       "    </tr>\n",
       "    <tr>\n",
       "      <th>practice</th>\n",
       "      <td>1274</td>\n",
       "    </tr>\n",
       "    <tr>\n",
       "      <th>ccg</th>\n",
       "      <td>706</td>\n",
       "    </tr>\n",
       "    <tr>\n",
       "      <th>stp</th>\n",
       "      <td>364</td>\n",
       "    </tr>\n",
       "  </tbody>\n",
       "</table>\n",
       "</div>"
      ],
      "text/plain": [
       "          chemicals\n",
       "pcn            1294\n",
       "practice       1274\n",
       "ccg             706\n",
       "stp             364"
      ]
     },
     "execution_count": 16,
     "metadata": {},
     "output_type": "execute_result"
    }
   ],
   "source": [
    "### Summarising the number of unique chemicals identified in the\n",
    "### top/bottom five outliers amongst all organisations of the given type\n",
    "\n",
    "c_counts = ( e_data.reset_index()[[\"chemical\",\"entity\"]]\n",
    "            .drop_duplicates()['entity']\n",
    "            .value_counts()\n",
    "            .to_frame()\n",
    "            .rename( columns={'entity':'chemicals'} ) )\n",
    "\n",
    "c_counts"
   ]
  },
  {
   "cell_type": "code",
   "execution_count": 17,
   "metadata": {
    "lines_to_next_cell": 2
   },
   "outputs": [],
   "source": [
    "### Combining the entity and chemical counts\n",
    "\n",
    "all_counts = e_counts.join( c_counts )"
   ]
  },
  {
   "cell_type": "code",
   "execution_count": 18,
   "metadata": {
    "lines_to_next_cell": 2
   },
   "outputs": [],
   "source": [
    "### Defining which metrics will be displayed in the summary tables\n",
    "metrics_to_show = [ \"n\", \"chemicals\", \"median\",\"max\",\"min\",\"IQR\" ]"
   ]
  },
  {
   "cell_type": "code",
   "execution_count": 19,
   "metadata": {},
   "outputs": [],
   "source": [
    "### Calculating summary statistics for the Z scores for those chemicals\n",
    "### identified in the TOP 5 in at least one organisation of the entity type.\n",
    "### There are the chemicals displayed in the 'Higher than most' table.\n",
    "\n",
    "overused_summary = e_data.query('z_score>0').groupby( \"entity\" )[[\"z_score\"]].describe().reindex(['stp', 'ccg', 'pcn', 'practice']).stack(level=0)\n",
    "overused_summary = overused_summary.rename( columns={\"50%\":\"median\"}, inplace=False )"
   ]
  },
  {
   "cell_type": "code",
   "execution_count": 20,
   "metadata": {},
   "outputs": [],
   "source": [
    "### Calculating summary statistics for the Z scores for those chemicals\n",
    "### identified in the BOTTOM 5 in at least one organisation of the entity type.\n",
    "### There are the chemicals displayed in the 'Lower than most' table.\n",
    "\n",
    "underused_summary = e_data.query('z_score<0').groupby( \"entity\" )[[\"z_score\"]].describe().reindex(['stp', 'ccg', 'pcn', 'practice']).stack(level=0)\n",
    "underused_summary = underused_summary.rename( columns={\"50%\":\"median\"}, inplace=False )"
   ]
  },
  {
   "cell_type": "markdown",
   "metadata": {},
   "source": [
    "## Summary statistics for outlying Z scores in each organisation type\n",
    "\n",
    "### Higher than most chemicals\n",
    "\n",
    "The table below summarises the Z scores for the high outlying (i.e., top 5) chemicals\n",
    "in each type of organisation. These are chemicals are seen to be used more often\n",
    "in a particular organisation than its peers."
   ]
  },
  {
   "cell_type": "code",
   "execution_count": 21,
   "metadata": {},
   "outputs": [
    {
     "data": {
      "text/html": [
       "<div>\n",
       "<style scoped>\n",
       "    .dataframe tbody tr th:only-of-type {\n",
       "        vertical-align: middle;\n",
       "    }\n",
       "\n",
       "    .dataframe tbody tr th {\n",
       "        vertical-align: top;\n",
       "    }\n",
       "\n",
       "    .dataframe thead th {\n",
       "        text-align: right;\n",
       "    }\n",
       "</style>\n",
       "<table border=\"1\" class=\"dataframe\">\n",
       "  <thead>\n",
       "    <tr style=\"text-align: right;\">\n",
       "      <th></th>\n",
       "      <th>n</th>\n",
       "      <th>chemicals</th>\n",
       "      <th>median</th>\n",
       "      <th>max</th>\n",
       "      <th>min</th>\n",
       "      <th>IQR</th>\n",
       "    </tr>\n",
       "    <tr>\n",
       "      <th>entity</th>\n",
       "      <th></th>\n",
       "      <th></th>\n",
       "      <th></th>\n",
       "      <th></th>\n",
       "      <th></th>\n",
       "      <th></th>\n",
       "    </tr>\n",
       "  </thead>\n",
       "  <tbody>\n",
       "    <tr>\n",
       "      <th>stp</th>\n",
       "      <td>42</td>\n",
       "      <td>364</td>\n",
       "      <td>6.14</td>\n",
       "      <td>6.33</td>\n",
       "      <td>3.68</td>\n",
       "      <td>0.78</td>\n",
       "    </tr>\n",
       "    <tr>\n",
       "      <th>ccg</th>\n",
       "      <td>106</td>\n",
       "      <td>706</td>\n",
       "      <td>7.36</td>\n",
       "      <td>10.20</td>\n",
       "      <td>3.56</td>\n",
       "      <td>3.29</td>\n",
       "    </tr>\n",
       "    <tr>\n",
       "      <th>pcn</th>\n",
       "      <td>1257</td>\n",
       "      <td>1294</td>\n",
       "      <td>7.26</td>\n",
       "      <td>543.19</td>\n",
       "      <td>2.58</td>\n",
       "      <td>5.11</td>\n",
       "    </tr>\n",
       "    <tr>\n",
       "      <th>practice</th>\n",
       "      <td>6499</td>\n",
       "      <td>1274</td>\n",
       "      <td>7.28</td>\n",
       "      <td>5512.02</td>\n",
       "      <td>1.13</td>\n",
       "      <td>5.96</td>\n",
       "    </tr>\n",
       "  </tbody>\n",
       "</table>\n",
       "</div>"
      ],
      "text/plain": [
       "             n  chemicals  median      max   min   IQR\n",
       "entity                                                \n",
       "stp         42        364    6.14     6.33  3.68  0.78\n",
       "ccg        106        706    7.36    10.20  3.56  3.29\n",
       "pcn       1257       1294    7.26   543.19  2.58  5.11\n",
       "practice  6499       1274    7.28  5512.02  1.13  5.96"
      ]
     },
     "execution_count": 21,
     "metadata": {},
     "output_type": "execute_result"
    }
   ],
   "source": [
    "### Extracting the summary statistics for the z scores\n",
    "overused_tmp = overused_summary[overused_summary.index.isin([\"z_score\"], level=1)]\n",
    "\n",
    "### Calculating IQR, removing the row index and rounding to 2dp\n",
    "overused_toprint = ( overused_tmp\n",
    "         .assign( IQR = overused_tmp[\"75%\"]-overused_tmp[\"25%\"] )\n",
    "         .droplevel(level=1)\n",
    "         .round(2) )\n",
    "\n",
    "overused_toprint.join( all_counts )[metrics_to_show]"
   ]
  },
  {
   "cell_type": "markdown",
   "metadata": {},
   "source": [
    "### Lower than most chemicals\n",
    "\n",
    "The table below summarises the Z scores for the low outlying (i.e., bottom 5) chemicals\n",
    "in each type of organisation. These are chemicals are seen to be used less often\n",
    "in a particular organisation than its peers."
   ]
  },
  {
   "cell_type": "code",
   "execution_count": 22,
   "metadata": {
    "lines_to_next_cell": 0
   },
   "outputs": [
    {
     "data": {
      "text/html": [
       "<div>\n",
       "<style scoped>\n",
       "    .dataframe tbody tr th:only-of-type {\n",
       "        vertical-align: middle;\n",
       "    }\n",
       "\n",
       "    .dataframe tbody tr th {\n",
       "        vertical-align: top;\n",
       "    }\n",
       "\n",
       "    .dataframe thead th {\n",
       "        text-align: right;\n",
       "    }\n",
       "</style>\n",
       "<table border=\"1\" class=\"dataframe\">\n",
       "  <thead>\n",
       "    <tr style=\"text-align: right;\">\n",
       "      <th></th>\n",
       "      <th>n</th>\n",
       "      <th>chemicals</th>\n",
       "      <th>median</th>\n",
       "      <th>max</th>\n",
       "      <th>min</th>\n",
       "      <th>IQR</th>\n",
       "    </tr>\n",
       "    <tr>\n",
       "      <th>entity</th>\n",
       "      <th></th>\n",
       "      <th></th>\n",
       "      <th></th>\n",
       "      <th></th>\n",
       "      <th></th>\n",
       "      <th></th>\n",
       "    </tr>\n",
       "  </thead>\n",
       "  <tbody>\n",
       "    <tr>\n",
       "      <th>stp</th>\n",
       "      <td>42</td>\n",
       "      <td>364</td>\n",
       "      <td>-2.77</td>\n",
       "      <td>-1.78</td>\n",
       "      <td>-6.33</td>\n",
       "      <td>1.15</td>\n",
       "    </tr>\n",
       "    <tr>\n",
       "      <th>ccg</th>\n",
       "      <td>106</td>\n",
       "      <td>706</td>\n",
       "      <td>-2.78</td>\n",
       "      <td>-1.47</td>\n",
       "      <td>-10.20</td>\n",
       "      <td>1.16</td>\n",
       "    </tr>\n",
       "    <tr>\n",
       "      <th>pcn</th>\n",
       "      <td>1257</td>\n",
       "      <td>1294</td>\n",
       "      <td>-2.61</td>\n",
       "      <td>-1.49</td>\n",
       "      <td>-141.33</td>\n",
       "      <td>1.03</td>\n",
       "    </tr>\n",
       "    <tr>\n",
       "      <th>practice</th>\n",
       "      <td>6499</td>\n",
       "      <td>1274</td>\n",
       "      <td>-2.44</td>\n",
       "      <td>-1.13</td>\n",
       "      <td>-711.87</td>\n",
       "      <td>1.07</td>\n",
       "    </tr>\n",
       "  </tbody>\n",
       "</table>\n",
       "</div>"
      ],
      "text/plain": [
       "             n  chemicals  median   max     min   IQR\n",
       "entity                                               \n",
       "stp         42        364   -2.77 -1.78   -6.33  1.15\n",
       "ccg        106        706   -2.78 -1.47  -10.20  1.16\n",
       "pcn       1257       1294   -2.61 -1.49 -141.33  1.03\n",
       "practice  6499       1274   -2.44 -1.13 -711.87  1.07"
      ]
     },
     "execution_count": 22,
     "metadata": {},
     "output_type": "execute_result"
    }
   ],
   "source": [
    "### Extracting the summary statistics for the z scores\n",
    "underused_tmp = underused_summary[underused_summary.index.isin([\"z_score\"], level=1)]\n",
    "\n",
    "### Calculating IQR, removing the row index and rounding to 2dp\n",
    "underused_toprint = ( underused_tmp\n",
    "         .assign( IQR = underused_tmp[\"75%\"]-underused_tmp[\"25%\"] )\n",
    "         .droplevel(level=1)\n",
    "         .round(2) )\n",
    "\n",
    "underused_toprint.join( all_counts )[metrics_to_show]"
   ]
  },
  {
   "cell_type": "markdown",
   "metadata": {},
   "source": [
    "### Summary\n",
    "\n",
    "Below is a summary table that combines the 'Higher than most' and 'Lower than most'\n",
    "results displayed above."
   ]
  },
  {
   "cell_type": "code",
   "execution_count": 23,
   "metadata": {},
   "outputs": [
    {
     "data": {
      "text/html": [
       "<div>\n",
       "<style scoped>\n",
       "    .dataframe tbody tr th:only-of-type {\n",
       "        vertical-align: middle;\n",
       "    }\n",
       "\n",
       "    .dataframe tbody tr th {\n",
       "        vertical-align: top;\n",
       "    }\n",
       "\n",
       "    .dataframe thead tr th {\n",
       "        text-align: left;\n",
       "    }\n",
       "\n",
       "    .dataframe thead tr:last-of-type th {\n",
       "        text-align: right;\n",
       "    }\n",
       "</style>\n",
       "<table border=\"1\" class=\"dataframe\">\n",
       "  <thead>\n",
       "    <tr>\n",
       "      <th></th>\n",
       "      <th colspan=\"6\" halign=\"left\">Higher than most</th>\n",
       "      <th colspan=\"4\" halign=\"left\">Lower than most</th>\n",
       "    </tr>\n",
       "    <tr>\n",
       "      <th></th>\n",
       "      <th>n</th>\n",
       "      <th>chemicals</th>\n",
       "      <th>median</th>\n",
       "      <th>max</th>\n",
       "      <th>min</th>\n",
       "      <th>IQR</th>\n",
       "      <th>median</th>\n",
       "      <th>max</th>\n",
       "      <th>min</th>\n",
       "      <th>IQR</th>\n",
       "    </tr>\n",
       "    <tr>\n",
       "      <th>entity</th>\n",
       "      <th></th>\n",
       "      <th></th>\n",
       "      <th></th>\n",
       "      <th></th>\n",
       "      <th></th>\n",
       "      <th></th>\n",
       "      <th></th>\n",
       "      <th></th>\n",
       "      <th></th>\n",
       "      <th></th>\n",
       "    </tr>\n",
       "  </thead>\n",
       "  <tbody>\n",
       "    <tr>\n",
       "      <th>stp</th>\n",
       "      <td>42</td>\n",
       "      <td>364</td>\n",
       "      <td>6.14</td>\n",
       "      <td>6.33</td>\n",
       "      <td>3.68</td>\n",
       "      <td>0.78</td>\n",
       "      <td>-2.77</td>\n",
       "      <td>-1.78</td>\n",
       "      <td>-6.33</td>\n",
       "      <td>1.15</td>\n",
       "    </tr>\n",
       "    <tr>\n",
       "      <th>ccg</th>\n",
       "      <td>106</td>\n",
       "      <td>706</td>\n",
       "      <td>7.36</td>\n",
       "      <td>10.20</td>\n",
       "      <td>3.56</td>\n",
       "      <td>3.29</td>\n",
       "      <td>-2.78</td>\n",
       "      <td>-1.47</td>\n",
       "      <td>-10.20</td>\n",
       "      <td>1.16</td>\n",
       "    </tr>\n",
       "    <tr>\n",
       "      <th>pcn</th>\n",
       "      <td>1257</td>\n",
       "      <td>1294</td>\n",
       "      <td>7.26</td>\n",
       "      <td>543.19</td>\n",
       "      <td>2.58</td>\n",
       "      <td>5.11</td>\n",
       "      <td>-2.61</td>\n",
       "      <td>-1.49</td>\n",
       "      <td>-141.33</td>\n",
       "      <td>1.03</td>\n",
       "    </tr>\n",
       "    <tr>\n",
       "      <th>practice</th>\n",
       "      <td>6499</td>\n",
       "      <td>1274</td>\n",
       "      <td>7.28</td>\n",
       "      <td>5512.02</td>\n",
       "      <td>1.13</td>\n",
       "      <td>5.96</td>\n",
       "      <td>-2.44</td>\n",
       "      <td>-1.13</td>\n",
       "      <td>-711.87</td>\n",
       "      <td>1.07</td>\n",
       "    </tr>\n",
       "  </tbody>\n",
       "</table>\n",
       "</div>"
      ],
      "text/plain": [
       "         Higher than most                                        \\\n",
       "                        n chemicals median      max   min   IQR   \n",
       "entity                                                            \n",
       "stp                    42       364   6.14     6.33  3.68  0.78   \n",
       "ccg                   106       706   7.36    10.20  3.56  3.29   \n",
       "pcn                  1257      1294   7.26   543.19  2.58  5.11   \n",
       "practice             6499      1274   7.28  5512.02  1.13  5.96   \n",
       "\n",
       "         Lower than most                      \n",
       "                  median   max     min   IQR  \n",
       "entity                                        \n",
       "stp                -2.77 -1.78   -6.33  1.15  \n",
       "ccg                -2.78 -1.47  -10.20  1.16  \n",
       "pcn                -2.61 -1.49 -141.33  1.03  \n",
       "practice           -2.44 -1.13 -711.87  1.07  "
      ]
     },
     "execution_count": 23,
     "metadata": {},
     "output_type": "execute_result"
    }
   ],
   "source": [
    "pd.concat([overused_toprint.join( all_counts )[metrics_to_show],\n",
    "           underused_toprint[metrics_to_show[2:]]],\n",
    "          keys=[\"Higher than most\", \"Lower than most\"],axis=1)"
   ]
  }
 ],
 "metadata": {
  "jupytext": {
   "cell_metadata_filter": "all",
   "encoding": "# -*- coding: utf-8 -*-",
   "notebook_metadata_filter": "all,-language_info",
   "text_representation": {
    "extension": ".py",
    "format_name": "light",
    "format_version": "1.5",
    "jupytext_version": "1.3.4"
   }
  },
  "kernelspec": {
   "display_name": "Python 3",
   "language": "python",
   "name": "python3"
  },
  "language_info": {
   "codemirror_mode": {
    "name": "ipython",
    "version": 3
   },
   "file_extension": ".py",
   "mimetype": "text/x-python",
   "name": "python",
   "nbconvert_exporter": "python",
   "pygments_lexer": "ipython3",
   "version": "3.8.1"
  }
 },
 "nbformat": 4,
 "nbformat_minor": 4
}
